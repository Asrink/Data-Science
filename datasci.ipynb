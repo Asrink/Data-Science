{
 "cells": [
  {
   "cell_type": "code",
   "execution_count": 2,
   "metadata": {
    "collapsed": true
   },
   "outputs": [],
   "source": [
    "country.code <- 'de'  # use yours\n",
    "url.pattern <- 'https://'  # use http if you want\n",
    "repo.data.frame <- subset(getCRANmirrors(), CountryCode == country.code & grepl(url.pattern, URL))\n",
    "options(repos = repo.data.frame$URL)"
   ]
  },
  {
   "cell_type": "code",
   "execution_count": 3,
   "metadata": {
    "collapsed": true
   },
   "outputs": [],
   "source": [
    "data = read.table(\"http://archive.ics.uci.edu/ml/machine-learning-databases/adult/adult.data\", \n",
    "                    sep=\",\",\n",
    "                    header=F,col.names=c(\"age\", \"type_employer\", \"fnlwgt\", \"education\", \n",
    "                                         \"education_num\",\"marital\", \"occupation\", \"relationship\",\n",
    "                                         \"race\",\"sex\", \"capital_gain\", \"capital_loss\", \"hr_per_week\",\n",
    "                                         \"country\", \"income\"), fill=FALSE,strip.white=T) \n"
   ]
  },
  {
   "cell_type": "code",
   "execution_count": 4,
   "metadata": {
    "collapsed": true
   },
   "outputs": [],
   "source": [
    "data[[\"education_num\"]]=NULL #remove this column because it is a copy of the data in education"
   ]
  },
  {
   "cell_type": "code",
   "execution_count": 5,
   "metadata": {
    "collapsed": true
   },
   "outputs": [],
   "source": [
    "data[[\"fnlwgt\"]]=NULL  # dont use the weight the observations in our modeling\n"
   ]
  },
  {
   "cell_type": "code",
   "execution_count": 6,
   "metadata": {
    "collapsed": true
   },
   "outputs": [],
   "source": [
    "data$type_employer = as.character(data$type_employer)#convert data to character strings \n"
   ]
  },
  {
   "cell_type": "code",
   "execution_count": 7,
   "metadata": {
    "collapsed": true
   },
   "outputs": [],
   "source": [
    "data$occupation = as.character(data$occupation)#convert data to character strings \n"
   ]
  },
  {
   "cell_type": "code",
   "execution_count": 8,
   "metadata": {
    "collapsed": true
   },
   "outputs": [],
   "source": [
    "data$country = as.character(data$country)#convert data to character strings \n"
   ]
  },
  {
   "cell_type": "code",
   "execution_count": 9,
   "metadata": {
    "collapsed": true
   },
   "outputs": [],
   "source": [
    "data$education = as.character(data$education)#convert data to character strings \n"
   ]
  },
  {
   "cell_type": "code",
   "execution_count": 10,
   "metadata": {
    "collapsed": true
   },
   "outputs": [],
   "source": [
    "data$race = as.character(data$race)#convert data to character strings \n"
   ]
  },
  {
   "cell_type": "code",
   "execution_count": 11,
   "metadata": {
    "collapsed": true
   },
   "outputs": [],
   "source": [
    "data$marital = as.character(data$marital)#convert data to character strings \n"
   ]
  },
  {
   "cell_type": "code",
   "execution_count": 12,
   "metadata": {
    "collapsed": true
   },
   "outputs": [],
   "source": [
    "#check the name of variable\n",
    "data$marital[data$marital==\"Never-married\"] = \"Never-Married\" "
   ]
  },
  {
   "cell_type": "code",
   "execution_count": 13,
   "metadata": {
    "collapsed": true
   },
   "outputs": [],
   "source": [
    "data$marital[data$marital==\"Married-AF-spouse\"] = \"Married\" \n"
   ]
  },
  {
   "cell_type": "code",
   "execution_count": 14,
   "metadata": {
    "collapsed": true
   },
   "outputs": [],
   "source": [
    "data$marital[data$marital==\"Married-civ-spouse\"] = \"Married\" \n"
   ]
  },
  {
   "cell_type": "code",
   "execution_count": 15,
   "metadata": {
    "collapsed": true
   },
   "outputs": [],
   "source": [
    "data$marital[data$marital==\"Married-spouse-absent\"] = \"Not-Married\" \n"
   ]
  },
  {
   "cell_type": "code",
   "execution_count": 16,
   "metadata": {
    "collapsed": true
   },
   "outputs": [],
   "source": [
    "data$marital[data$marital==\"Separated\"] = \"Not-Married\" \n"
   ]
  },
  {
   "cell_type": "code",
   "execution_count": 17,
   "metadata": {
    "collapsed": true
   },
   "outputs": [],
   "source": [
    "data$marital[data$marital==\"Divorced\"] = \"Not-Married\" \n"
   ]
  },
  {
   "cell_type": "code",
   "execution_count": 18,
   "metadata": {
    "collapsed": true
   },
   "outputs": [],
   "source": [
    "data$marital[data$marital==\"Widowed\"] = \"Widowed\" \n"
   ]
  },
  {
   "cell_type": "code",
   "execution_count": 19,
   "metadata": {
    "collapsed": true
   },
   "outputs": [],
   "source": [
    "# blocking Country of Origin \n",
    "data$country[data$country==\"Cambodia\"] = \"SE-Asia\" "
   ]
  },
  {
   "cell_type": "code",
   "execution_count": 20,
   "metadata": {
    "collapsed": true
   },
   "outputs": [],
   "source": [
    "data$country[data$country==\"Canada\"] = \"British-Commonwealth\" "
   ]
  },
  {
   "cell_type": "code",
   "execution_count": 21,
   "metadata": {
    "collapsed": true
   },
   "outputs": [],
   "source": [
    "data$country[data$country==\"China\"] = \"China\" \n"
   ]
  },
  {
   "cell_type": "code",
   "execution_count": 22,
   "metadata": {
    "collapsed": true
   },
   "outputs": [],
   "source": [
    "data$country[data$country==\"Columbia\"] = \"South-America\" \n"
   ]
  },
  {
   "cell_type": "code",
   "execution_count": 23,
   "metadata": {
    "collapsed": true
   },
   "outputs": [],
   "source": [
    "data$country[data$country==\"Cuba\"] = \"Other\" \n"
   ]
  },
  {
   "cell_type": "code",
   "execution_count": 24,
   "metadata": {
    "collapsed": true
   },
   "outputs": [],
   "source": [
    "data$country[data$country==\"Dominican-Republic\"] = \"Latin-America\" \n"
   ]
  },
  {
   "cell_type": "code",
   "execution_count": 25,
   "metadata": {
    "collapsed": true
   },
   "outputs": [],
   "source": [
    "data$country[data$country==\"Ecuador\"] = \"South-America\" \n"
   ]
  },
  {
   "cell_type": "code",
   "execution_count": 26,
   "metadata": {
    "collapsed": true
   },
   "outputs": [],
   "source": [
    "data$country[data$country==\"El-Salvador\"] = \"South-America\" \n"
   ]
  },
  {
   "cell_type": "code",
   "execution_count": 27,
   "metadata": {
    "collapsed": true
   },
   "outputs": [],
   "source": [
    "data$country[data$country==\"England\"] = \"British-Commonwealth\" \n"
   ]
  },
  {
   "cell_type": "code",
   "execution_count": 28,
   "metadata": {
    "collapsed": true
   },
   "outputs": [],
   "source": [
    "data$country[data$country==\"France\"] = \"Euro_1\" \n"
   ]
  },
  {
   "cell_type": "code",
   "execution_count": 29,
   "metadata": {
    "collapsed": true
   },
   "outputs": [],
   "source": [
    "data$country[data$country==\"Germany\"] = \"Euro_1\" \n"
   ]
  },
  {
   "cell_type": "code",
   "execution_count": 30,
   "metadata": {
    "collapsed": true
   },
   "outputs": [],
   "source": [
    "data$country[data$country==\"Greece\"] = \"Euro_2\" \n"
   ]
  },
  {
   "cell_type": "code",
   "execution_count": 31,
   "metadata": {
    "collapsed": true
   },
   "outputs": [],
   "source": [
    "data$country[data$country==\"Guatemala\"] = \"Latin-America\" \n"
   ]
  },
  {
   "cell_type": "code",
   "execution_count": 32,
   "metadata": {
    "collapsed": true
   },
   "outputs": [],
   "source": [
    "data$country[data$country==\"Haiti\"] = \"Latin-America\" \n"
   ]
  },
  {
   "cell_type": "code",
   "execution_count": 33,
   "metadata": {
    "collapsed": true
   },
   "outputs": [],
   "source": [
    "data$country[data$country==\"Holand-Netherlands\"] = \"Euro_1\" \n"
   ]
  },
  {
   "cell_type": "code",
   "execution_count": 34,
   "metadata": {
    "collapsed": true
   },
   "outputs": [],
   "source": [
    "data$country[data$country==\"Honduras\"] = \"Latin-America\" \n"
   ]
  },
  {
   "cell_type": "code",
   "execution_count": 35,
   "metadata": {
    "collapsed": true
   },
   "outputs": [],
   "source": [
    "data$country[data$country==\"Hong\"] = \"China\" \n"
   ]
  },
  {
   "cell_type": "code",
   "execution_count": 36,
   "metadata": {
    "collapsed": true
   },
   "outputs": [],
   "source": [
    "data$country[data$country==\"Hungary\"] = \"Euro_2\" \n"
   ]
  },
  {
   "cell_type": "code",
   "execution_count": 37,
   "metadata": {
    "collapsed": true
   },
   "outputs": [],
   "source": [
    "data$country[data$country==\"India\"] = \"British-Commonwealth\" \n"
   ]
  },
  {
   "cell_type": "code",
   "execution_count": 38,
   "metadata": {
    "collapsed": true
   },
   "outputs": [],
   "source": [
    "data$country[data$country==\"Iran\"] = \"Other\" \n"
   ]
  },
  {
   "cell_type": "code",
   "execution_count": 39,
   "metadata": {
    "collapsed": true
   },
   "outputs": [],
   "source": [
    "data$country[data$country==\"Ireland\"] = \"British-Commonwealth\" \n"
   ]
  },
  {
   "cell_type": "code",
   "execution_count": 40,
   "metadata": {
    "collapsed": true
   },
   "outputs": [],
   "source": [
    "data$country[data$country==\"Italy\"] = \"Euro_1\" \n"
   ]
  },
  {
   "cell_type": "code",
   "execution_count": 41,
   "metadata": {
    "collapsed": true
   },
   "outputs": [],
   "source": [
    "data$country[data$country==\"Jamaica\"] = \"Latin-America\" \n"
   ]
  },
  {
   "cell_type": "code",
   "execution_count": 42,
   "metadata": {
    "collapsed": true
   },
   "outputs": [],
   "source": [
    "data$country[data$country==\"Japan\"] = \"Other\" \n"
   ]
  },
  {
   "cell_type": "code",
   "execution_count": 43,
   "metadata": {
    "collapsed": true
   },
   "outputs": [],
   "source": [
    "data$country[data$country==\"Laos\"] = \"SE-Asia\" \n"
   ]
  },
  {
   "cell_type": "code",
   "execution_count": 44,
   "metadata": {
    "collapsed": true
   },
   "outputs": [],
   "source": [
    "data$country[data$country==\"Mexico\"] = \"Latin-America\" \n"
   ]
  },
  {
   "cell_type": "code",
   "execution_count": 45,
   "metadata": {
    "collapsed": true
   },
   "outputs": [],
   "source": [
    "data$country[data$country==\"Nicaragua\"] = \"Latin-America\" \n"
   ]
  },
  {
   "cell_type": "code",
   "execution_count": 46,
   "metadata": {
    "collapsed": true
   },
   "outputs": [],
   "source": [
    "data$country[data$country==\"Outlying-US(Guam-USVI-etc)\"] = \"Latin-America\" \n"
   ]
  },
  {
   "cell_type": "code",
   "execution_count": 47,
   "metadata": {
    "collapsed": true
   },
   "outputs": [],
   "source": [
    "data$country[data$country==\"Peru\"] = \"South-America\" \n"
   ]
  },
  {
   "cell_type": "code",
   "execution_count": 48,
   "metadata": {
    "collapsed": true
   },
   "outputs": [],
   "source": [
    "data$country[data$country==\"Philippines\"] = \"SE-Asia\" \n"
   ]
  },
  {
   "cell_type": "code",
   "execution_count": 49,
   "metadata": {
    "collapsed": true
   },
   "outputs": [],
   "source": [
    "data$country[data$country==\"Poland\"] = \"Euro_2\" \n"
   ]
  },
  {
   "cell_type": "code",
   "execution_count": 50,
   "metadata": {
    "collapsed": true
   },
   "outputs": [],
   "source": [
    "data$country[data$country==\"Portugal\"] = \"Euro_2\"\n"
   ]
  },
  {
   "cell_type": "code",
   "execution_count": 51,
   "metadata": {
    "collapsed": true
   },
   "outputs": [],
   "source": [
    "data$country[data$country==\"Puerto-Rico\"] = \"Latin-America\"\n"
   ]
  },
  {
   "cell_type": "code",
   "execution_count": 52,
   "metadata": {
    "collapsed": true
   },
   "outputs": [],
   "source": [
    "data$country[data$country==\"Scotland\"] = \"British-Commonwealth\" \n"
   ]
  },
  {
   "cell_type": "code",
   "execution_count": 53,
   "metadata": {
    "collapsed": true
   },
   "outputs": [],
   "source": [
    "data$country[data$country==\"South\"] = \"Euro_2\" \n"
   ]
  },
  {
   "cell_type": "code",
   "execution_count": 54,
   "metadata": {
    "collapsed": true
   },
   "outputs": [],
   "source": [
    "data$country[data$country==\"Taiwan\"] = \"China\" \n"
   ]
  },
  {
   "cell_type": "code",
   "execution_count": 55,
   "metadata": {
    "collapsed": true
   },
   "outputs": [],
   "source": [
    "data$country[data$country==\"Thailand\"] = \"SE-Asia\" \n"
   ]
  },
  {
   "cell_type": "code",
   "execution_count": 56,
   "metadata": {
    "collapsed": true
   },
   "outputs": [],
   "source": [
    "data$country[data$country==\"Trinadad&Tobago\"] = \"Latin-America\" \n"
   ]
  },
  {
   "cell_type": "code",
   "execution_count": 57,
   "metadata": {
    "collapsed": true
   },
   "outputs": [],
   "source": [
    "data$country[data$country==\"United-States\"] = \"United-States\" \n"
   ]
  },
  {
   "cell_type": "code",
   "execution_count": 58,
   "metadata": {
    "collapsed": true
   },
   "outputs": [],
   "source": [
    "data$country[data$country==\"Vietnam\"] = \"SE-Asia\" \n"
   ]
  },
  {
   "cell_type": "code",
   "execution_count": 59,
   "metadata": {
    "collapsed": true
   },
   "outputs": [],
   "source": [
    "data$country[data$country==\"Yugoslavia\"] = \"Euro_2\" \n"
   ]
  },
  {
   "cell_type": "code",
   "execution_count": 60,
   "metadata": {
    "collapsed": true
   },
   "outputs": [],
   "source": [
    "data$education = gsub(\"^10th\",\"Dropout\",data$education) \n"
   ]
  },
  {
   "cell_type": "code",
   "execution_count": 61,
   "metadata": {
    "collapsed": true
   },
   "outputs": [],
   "source": [
    "data$education = gsub(\"^11th\",\"Dropout\",data$education) \n"
   ]
  },
  {
   "cell_type": "code",
   "execution_count": 62,
   "metadata": {
    "collapsed": true
   },
   "outputs": [],
   "source": [
    "data$education = gsub(\"^12th\",\"Dropout\",data$education) \n"
   ]
  },
  {
   "cell_type": "code",
   "execution_count": 63,
   "metadata": {
    "collapsed": true
   },
   "outputs": [],
   "source": [
    "data$education = gsub(\"^1st-4th\",\"Dropout\",data$education) \n"
   ]
  },
  {
   "cell_type": "code",
   "execution_count": 64,
   "metadata": {
    "collapsed": true
   },
   "outputs": [],
   "source": [
    "data$education = gsub(\"^5th-6th\",\"Dropout\",data$education) \n"
   ]
  },
  {
   "cell_type": "code",
   "execution_count": 65,
   "metadata": {
    "collapsed": true
   },
   "outputs": [],
   "source": [
    "data$education = gsub(\"^7th-8th\",\"Dropout\",data$education) \n"
   ]
  },
  {
   "cell_type": "code",
   "execution_count": 66,
   "metadata": {
    "collapsed": true
   },
   "outputs": [],
   "source": [
    "data$education = gsub(\"^9th\",\"Dropout\",data$education) \n"
   ]
  },
  {
   "cell_type": "code",
   "execution_count": 67,
   "metadata": {
    "collapsed": true
   },
   "outputs": [],
   "source": [
    "data$education = gsub(\"^Assoc-acdm\",\"Associates\",data$education) \n"
   ]
  },
  {
   "cell_type": "code",
   "execution_count": 68,
   "metadata": {
    "collapsed": true
   },
   "outputs": [],
   "source": [
    "data$education = gsub(\"^Assoc-voc\",\"Associates\",data$education) \n"
   ]
  },
  {
   "cell_type": "code",
   "execution_count": 69,
   "metadata": {
    "collapsed": true
   },
   "outputs": [],
   "source": [
    "data$education = gsub(\"^Bachelors\",\"Bachelors\",data$education) \n"
   ]
  },
  {
   "cell_type": "code",
   "execution_count": 70,
   "metadata": {
    "collapsed": true
   },
   "outputs": [],
   "source": [
    "data$education = gsub(\"^Doctorate\",\"Doctorate\",data$education) \n"
   ]
  },
  {
   "cell_type": "code",
   "execution_count": 71,
   "metadata": {
    "collapsed": true
   },
   "outputs": [],
   "source": [
    "data$education = gsub(\"^HS-Grad\",\"HS-Graduate\",data$education) \n"
   ]
  },
  {
   "cell_type": "code",
   "execution_count": 72,
   "metadata": {
    "collapsed": true
   },
   "outputs": [],
   "source": [
    "data$education = gsub(\"^Masters\",\"Masters\",data$education) \n"
   ]
  },
  {
   "cell_type": "code",
   "execution_count": 73,
   "metadata": {
    "collapsed": true
   },
   "outputs": [],
   "source": [
    "data$education = gsub(\"^Preschool\",\"Dropout\",data$education) \n"
   ]
  },
  {
   "cell_type": "code",
   "execution_count": 74,
   "metadata": {
    "collapsed": true
   },
   "outputs": [],
   "source": [
    "data$education = gsub(\"^Prof-school\",\"Prof-School\",data$education) \n"
   ]
  },
  {
   "cell_type": "code",
   "execution_count": 75,
   "metadata": {
    "collapsed": true
   },
   "outputs": [],
   "source": [
    "data$education = gsub(\"^Some-college\",\"HS-Graduate\",data$education)\n"
   ]
  },
  {
   "cell_type": "code",
   "execution_count": 76,
   "metadata": {
    "collapsed": true
   },
   "outputs": [],
   "source": [
    "data$type_employer = gsub(\"^Federal-gov\",\"Federal-Govt\",data$type_employer) \n"
   ]
  },
  {
   "cell_type": "code",
   "execution_count": 77,
   "metadata": {
    "collapsed": true
   },
   "outputs": [],
   "source": [
    "data$type_employer = gsub(\"^Local-gov\",\"Other-Govt\",data$type_employer)\n"
   ]
  },
  {
   "cell_type": "code",
   "execution_count": 78,
   "metadata": {
    "collapsed": true
   },
   "outputs": [],
   "source": [
    "data$type_employer = gsub(\"^State-gov\",\"Other-Govt\",data$type_employer)\n"
   ]
  },
  {
   "cell_type": "code",
   "execution_count": 79,
   "metadata": {
    "collapsed": true
   },
   "outputs": [],
   "source": [
    "data$type_employer = gsub(\"^Private\",\"Private\",data$type_employer)\n"
   ]
  },
  {
   "cell_type": "code",
   "execution_count": 80,
   "metadata": {
    "collapsed": true
   },
   "outputs": [],
   "source": [
    "data$type_employer = gsub(\"^Self-emp-inc\",\"Self-Employed\",data$type_employer) \n"
   ]
  },
  {
   "cell_type": "code",
   "execution_count": 81,
   "metadata": {
    "collapsed": true
   },
   "outputs": [],
   "source": [
    "data$type_employer = gsub(\"^Self-emp-not-inc\",\"Self-Employed\",data$type_employer)\n"
   ]
  },
  {
   "cell_type": "code",
   "execution_count": 82,
   "metadata": {
    "collapsed": true
   },
   "outputs": [],
   "source": [
    "data$type_employer = gsub(\"^Without-pay\",\"Not-Working\",data$type_employer)\n"
   ]
  },
  {
   "cell_type": "code",
   "execution_count": 83,
   "metadata": {
    "collapsed": true
   },
   "outputs": [],
   "source": [
    "data$type_employer = gsub(\"^Never-worked\",\"Not-Working\",data$type_employer) \n"
   ]
  },
  {
   "cell_type": "code",
   "execution_count": 84,
   "metadata": {
    "collapsed": true
   },
   "outputs": [],
   "source": [
    "data$occupation = gsub(\"^Adm-clerical\",\"Admin\",data$occupation) \n"
   ]
  },
  {
   "cell_type": "code",
   "execution_count": 85,
   "metadata": {
    "collapsed": true
   },
   "outputs": [],
   "source": [
    "data$occupation = gsub(\"^Armed-Forces\",\"Military\",data$occupation)\n"
   ]
  },
  {
   "cell_type": "code",
   "execution_count": 86,
   "metadata": {
    "collapsed": true
   },
   "outputs": [],
   "source": [
    "data$occupation = gsub(\"^Craft-repair\",\"Blue-Collar\",data$occupation)\n"
   ]
  },
  {
   "cell_type": "code",
   "execution_count": 87,
   "metadata": {
    "collapsed": true
   },
   "outputs": [],
   "source": [
    "data$occupation = gsub(\"^Exec-managerial\",\"White-Collar\",data$occupation)\n"
   ]
  },
  {
   "cell_type": "code",
   "execution_count": 88,
   "metadata": {
    "collapsed": true
   },
   "outputs": [],
   "source": [
    "data$occupation = gsub(\"^Farming-fishing\",\"Blue-Collar\",data$occupation)\n"
   ]
  },
  {
   "cell_type": "code",
   "execution_count": 89,
   "metadata": {
    "collapsed": true
   },
   "outputs": [],
   "source": [
    "data$occupation = gsub(\"^Handlers-cleaners\",\"Blue-Collar\",data$occupation)\n"
   ]
  },
  {
   "cell_type": "code",
   "execution_count": 90,
   "metadata": {
    "collapsed": true
   },
   "outputs": [],
   "source": [
    "data$occupation = gsub(\"^Machine-op-inspct\",\"Blue-Collar\",data$occupation) \n"
   ]
  },
  {
   "cell_type": "code",
   "execution_count": 91,
   "metadata": {
    "collapsed": true
   },
   "outputs": [],
   "source": [
    "data$occupation = gsub(\"^Other-service\",\"Service\",data$occupation)\n"
   ]
  },
  {
   "cell_type": "code",
   "execution_count": 92,
   "metadata": {
    "collapsed": true
   },
   "outputs": [],
   "source": [
    "data$occupation = gsub(\"^Priv-house-serv\",\"Service\",data$occupation) \n"
   ]
  },
  {
   "cell_type": "code",
   "execution_count": 93,
   "metadata": {
    "collapsed": true
   },
   "outputs": [],
   "source": [
    "data$occupation = gsub(\"^Prof-specialty\",\"Professional\",data$occupation) \n"
   ]
  },
  {
   "cell_type": "code",
   "execution_count": 94,
   "metadata": {
    "collapsed": true
   },
   "outputs": [],
   "source": [
    "data$occupation = gsub(\"^Protective-serv\",\"Other-Occupations\",data$occupation) \n"
   ]
  },
  {
   "cell_type": "code",
   "execution_count": 95,
   "metadata": {
    "collapsed": true
   },
   "outputs": [],
   "source": [
    "data$occupation = gsub(\"^Sales\",\"Sales\",data$occupation) \n"
   ]
  },
  {
   "cell_type": "code",
   "execution_count": 96,
   "metadata": {
    "collapsed": true
   },
   "outputs": [],
   "source": [
    "data$occupation = gsub(\"^Tech-support\",\"Other-Occupations\",data$occupation) \n"
   ]
  },
  {
   "cell_type": "code",
   "execution_count": 97,
   "metadata": {
    "collapsed": true
   },
   "outputs": [],
   "source": [
    "data$occupation = gsub(\"^Transport-moving\",\"Blue-Collar\",data$occupation) \n"
   ]
  },
  {
   "cell_type": "code",
   "execution_count": 98,
   "metadata": {
    "collapsed": true
   },
   "outputs": [],
   "source": [
    "data$race[data$race==\"White\"] = \"White\" \n"
   ]
  },
  {
   "cell_type": "code",
   "execution_count": 99,
   "metadata": {
    "collapsed": true
   },
   "outputs": [],
   "source": [
    "data$race[data$race==\"Black\"] = \"Black\"\n"
   ]
  },
  {
   "cell_type": "code",
   "execution_count": 100,
   "metadata": {
    "collapsed": true
   },
   "outputs": [],
   "source": [
    "data$race[data$race==\"Amer-Indian-Eskimo\"] = \"Amer-Indian\" \n"
   ]
  },
  {
   "cell_type": "code",
   "execution_count": 101,
   "metadata": {
    "collapsed": true
   },
   "outputs": [],
   "source": [
    "data$race[data$race==\"Asian-Pac-Islander\"] = \"Asian\" \n"
   ]
  },
  {
   "cell_type": "code",
   "execution_count": 102,
   "metadata": {
    "collapsed": true
   },
   "outputs": [],
   "source": [
    "data$race[data$race==\"Other\"] = \"Other\" \n"
   ]
  },
  {
   "cell_type": "code",
   "execution_count": 103,
   "metadata": {
    "collapsed": true
   },
   "outputs": [],
   "source": [
    "is.na(data) = data=='?'\n"
   ]
  },
  {
   "cell_type": "code",
   "execution_count": 104,
   "metadata": {
    "collapsed": true
   },
   "outputs": [],
   "source": [
    "is.na(data) = data==' ?' \n"
   ]
  },
  {
   "cell_type": "code",
   "execution_count": 105,
   "metadata": {
    "collapsed": true
   },
   "outputs": [],
   "source": [
    "data = na.omit(data)\n"
   ]
  },
  {
   "cell_type": "code",
   "execution_count": 106,
   "metadata": {
    "collapsed": true
   },
   "outputs": [],
   "source": [
    "data$marital = factor(data$marital)\n"
   ]
  },
  {
   "cell_type": "code",
   "execution_count": 107,
   "metadata": {
    "collapsed": true
   },
   "outputs": [],
   "source": [
    "data$education = factor(data$education)\n"
   ]
  },
  {
   "cell_type": "code",
   "execution_count": 108,
   "metadata": {
    "collapsed": true
   },
   "outputs": [],
   "source": [
    "data$country = factor(data$country) \n"
   ]
  },
  {
   "cell_type": "code",
   "execution_count": 109,
   "metadata": {
    "collapsed": true
   },
   "outputs": [],
   "source": [
    "data$type_employer = factor(data$type_employer)\n"
   ]
  },
  {
   "cell_type": "code",
   "execution_count": 110,
   "metadata": {
    "collapsed": true
   },
   "outputs": [],
   "source": [
    "data$occupation = factor(data$occupation) \n"
   ]
  },
  {
   "cell_type": "code",
   "execution_count": 111,
   "metadata": {
    "collapsed": true
   },
   "outputs": [],
   "source": [
    "data$race = factor(data$race)\n"
   ]
  },
  {
   "cell_type": "code",
   "execution_count": 112,
   "metadata": {
    "collapsed": true
   },
   "outputs": [],
   "source": [
    "data$sex = factor(data$sex) \n"
   ]
  },
  {
   "cell_type": "code",
   "execution_count": 113,
   "metadata": {
    "collapsed": true
   },
   "outputs": [],
   "source": [
    "data$relationship = factor(data$relationship) \n"
   ]
  },
  {
   "cell_type": "code",
   "execution_count": 114,
   "metadata": {
    "collapsed": true
   },
   "outputs": [],
   "source": [
    "data$income = as.factor(ifelse(data$income==data$income[1],0,1)) \n"
   ]
  },
  {
   "cell_type": "code",
   "execution_count": 115,
   "metadata": {
    "collapsed": true
   },
   "outputs": [],
   "source": [
    "##Sort categorical variables in descending order\n",
    "\n",
    "categ.sort <- function(x){reorder(x,x,function(y){-length(y)})} ## Sorting function for categorical variables"
   ]
  },
  {
   "cell_type": "code",
   "execution_count": 116,
   "metadata": {
    "collapsed": true
   },
   "outputs": [],
   "source": [
    "categ.var <- which(sapply(data, is.factor)) ## Find the categorical variables\n"
   ]
  },
  {
   "cell_type": "code",
   "execution_count": 117,
   "metadata": {
    "collapsed": true
   },
   "outputs": [],
   "source": [
    "for (c in categ.var){  ## Apply the sort function on each categorical variable\n",
    "  data[,c] <- categ.sort(data[,c])   \n",
    "}"
   ]
  },
  {
   "cell_type": "code",
   "execution_count": 118,
   "metadata": {},
   "outputs": [],
   "source": [
    "attach(data)\n"
   ]
  },
  {
   "cell_type": "code",
   "execution_count": 119,
   "metadata": {
    "scrolled": true
   },
   "outputs": [
    {
     "name": "stdout",
     "output_type": "stream",
     "text": [
      "package 'ggplot2' successfully unpacked and MD5 sums checked\n",
      "\n",
      "The downloaded binary packages are in\n",
      "\tC:\\Users\\Win8\\AppData\\Local\\Temp\\RtmpOSZVTW\\downloaded_packages\n"
     ]
    }
   ],
   "source": [
    "## Function for displaying histograms using ggplot2\n",
    "install.packages(\"ggplot2\",'C:/Users/Win8/Documents/R/win-library/3.3')"
   ]
  },
  {
   "cell_type": "code",
   "execution_count": 120,
   "metadata": {},
   "outputs": [
    {
     "name": "stderr",
     "output_type": "stream",
     "text": [
      "Warning message:\n",
      "\"package 'ggplot2' was built under R version 3.3.3\""
     ]
    }
   ],
   "source": [
    "library(ggplot2)"
   ]
  },
  {
   "cell_type": "code",
   "execution_count": 121,
   "metadata": {
    "collapsed": true
   },
   "outputs": [],
   "source": [
    "p1 <- ggplot(data, aes(x=age)) + ggtitle(\"Age\") + geom_histogram(aes(y = 100*(..count..)/sum(..count..)), binwidth=5, colour=\"black\", fill=\"white\") + ylab(\"Percentage\")"
   ]
  },
  {
   "cell_type": "code",
   "execution_count": 122,
   "metadata": {
    "collapsed": true
   },
   "outputs": [],
   "source": [
    "p2 <- ggplot(data, aes(x=hr_per_week)) + ggtitle(\"Hours per Week\") +\n",
    "  geom_histogram(aes(y = 100*(..count..)/sum(..count..)), colour=\"black\", fill=\"white\") + ylab(\"Percentage\")"
   ]
  },
  {
   "cell_type": "code",
   "execution_count": 123,
   "metadata": {
    "collapsed": true
   },
   "outputs": [],
   "source": [
    "p3 <- ggplot(data, aes(x=log10(capital_gain+1))) + ggtitle(\"log( Capital Gain )\") +\n",
    "  geom_histogram(aes(y = 100*(..count..)/sum(..count..)), colour=\"black\", fill=\"white\") + ylab(\"Percentage\") + \n",
    "  annotate(\"text\", x = 3, y = 50, label = \"X\", colour=\"red\", size=30, fontface=\"bold\")"
   ]
  },
  {
   "cell_type": "code",
   "execution_count": 124,
   "metadata": {
    "collapsed": true
   },
   "outputs": [],
   "source": [
    "p4 <- ggplot(data, aes(x=log10(capital_loss+1))) + ggtitle(\"log( Capital Loss )\") +\n",
    "  geom_histogram(aes(y = 100*(..count..)/sum(..count..)), colour=\"black\", fill=\"white\") + ylab(\"Percentage\") + \n",
    "  annotate(\"text\", x = 2, y = 50, label = \"X\", colour=\"red\", size=30, fontface=\"bold\")"
   ]
  },
  {
   "cell_type": "code",
   "execution_count": 125,
   "metadata": {},
   "outputs": [
    {
     "name": "stdout",
     "output_type": "stream",
     "text": [
      "package 'corrplot' successfully unpacked and MD5 sums checked\n",
      "\n",
      "The downloaded binary packages are in\n",
      "\tC:\\Users\\Win8\\AppData\\Local\\Temp\\RtmpOSZVTW\\downloaded_packages\n"
     ]
    }
   ],
   "source": [
    "install.packages(\"corrplot\",'C:/Users/Win8/Documents/R/win-library/3.3')"
   ]
  },
  {
   "cell_type": "code",
   "execution_count": 126,
   "metadata": {},
   "outputs": [
    {
     "name": "stderr",
     "output_type": "stream",
     "text": [
      "Warning message:\n",
      "\"package 'corrplot' was built under R version 3.3.3\""
     ]
    }
   ],
   "source": [
    "library(corrplot)"
   ]
  },
  {
   "cell_type": "code",
   "execution_count": 127,
   "metadata": {},
   "outputs": [
    {
     "name": "stdout",
     "output_type": "stream",
     "text": [
      "package 'gridExtra' successfully unpacked and MD5 sums checked\n",
      "\n",
      "The downloaded binary packages are in\n",
      "\tC:\\Users\\Win8\\AppData\\Local\\Temp\\RtmpOSZVTW\\downloaded_packages\n"
     ]
    }
   ],
   "source": [
    "install.packages(\"gridExtra\",'C:/Users/Win8/Documents/R/win-library/3.3')"
   ]
  },
  {
   "cell_type": "code",
   "execution_count": 128,
   "metadata": {},
   "outputs": [
    {
     "name": "stderr",
     "output_type": "stream",
     "text": [
      "Warning message:\n",
      "\"package 'gridExtra' was built under R version 3.3.3\""
     ]
    }
   ],
   "source": [
    "library(gridExtra)"
   ]
  },
  {
   "cell_type": "code",
   "execution_count": 129,
   "metadata": {},
   "outputs": [
    {
     "name": "stderr",
     "output_type": "stream",
     "text": [
      "`stat_bin()` using `bins = 30`. Pick better value with `binwidth`.\n",
      "`stat_bin()` using `bins = 30`. Pick better value with `binwidth`.\n",
      "`stat_bin()` using `bins = 30`. Pick better value with `binwidth`.\n"
     ]
    },
    {
     "data": {
      "image/png": "[encoded data removed]",
      "text/plain": [
       "plot without title"
      ]
     },
     "metadata": {},
     "output_type": "display_data"
    }
   ],
   "source": [
    "grid.arrange(p1, p2, p3, p4, ncol=2)\n",
    "###result:\n",
    "#Age, log(Weight), Years of Education, and Hours per Week have broad distributions,\n",
    "#therefore will be considered for regression analysis. Capital Gain and Capital Loss, \n",
    "#however, have very narrow distributions (more than 90% of data are clustered at zero) \n",
    "#therefore they will be excluded from the model.\n"
   ]
  },
  {
   "cell_type": "code",
   "execution_count": 130,
   "metadata": {
    "collapsed": true
   },
   "outputs": [],
   "source": [
    "##Bar plots of categorical variables\n",
    "p1 <- ggplot(data, aes(x=type_employer)) + ggtitle(\"Work Class\") + xlab(\"Work Class\") +\n",
    "  geom_bar(aes(y = 100*(..count..)/sum(..count..))) + ylab(\"Percentage\") + coord_flip() + \n",
    "  scale_x_discrete(limits = rev(levels(type_employer)))"
   ]
  },
  {
   "cell_type": "code",
   "execution_count": 131,
   "metadata": {
    "collapsed": true
   },
   "outputs": [],
   "source": [
    "p2 <- ggplot(data, aes(x=education)) + ggtitle(\"Education\") + xlab(\"Education\") + \n",
    "  geom_bar(aes(y = 100*(..count..)/sum(..count..))) + ylab(\"Percentage\") + coord_flip() +\n",
    "  scale_x_discrete(limits = rev(levels(education)))"
   ]
  },
  {
   "cell_type": "code",
   "execution_count": 132,
   "metadata": {
    "collapsed": true
   },
   "outputs": [],
   "source": [
    "p3 <- ggplot(data, aes(x=occupation)) + ggtitle(\"Occupation\") + xlab(\"Occupation\") + \n",
    "  geom_bar(aes(y = 100*(..count..)/sum(..count..))) + ylab(\"Percentage\") + coord_flip() +\n",
    "  scale_x_discrete(limits = rev(levels(occupation)))\n"
   ]
  },
  {
   "cell_type": "code",
   "execution_count": 133,
   "metadata": {
    "collapsed": true
   },
   "outputs": [],
   "source": [
    "p4 <- ggplot(data, aes(x=country)) + ggtitle(\" Country\") + xlab(\" Country\") +\n",
    "  geom_bar(aes(y = 100*(..count..)/sum(..count..))) + ylab(\"Percentage\") + coord_flip() + \n",
    "  scale_x_discrete(limits = rev(levels(country)))\n"
   ]
  },
  {
   "cell_type": "code",
   "execution_count": 134,
   "metadata": {},
   "outputs": [
    {
     "data": {
      "image/png": "[encoded data removed]",
      "text/plain": [
       "plot without title"
      ]
     },
     "metadata": {},
     "output_type": "display_data"
    }
   ],
   "source": [
    "grid.arrange(p1, p2, p3, p4, ncol=2)\n",
    "\n"
   ]
  },
  {
   "cell_type": "code",
   "execution_count": 135,
   "metadata": {
    "collapsed": true
   },
   "outputs": [],
   "source": [
    "##Pie charts of categorical variables\n",
    "\n",
    "p1 <- ggplot(data, aes(x=factor(1), fill=marital)) + \n",
    "  geom_bar(aes(y = 100*(..count..)/sum(..count..)), width = 1) + coord_polar(theta=\"y\") + \n",
    "  theme(axis.text.y = element_blank(), axis.ticks.y = element_blank(), legend.title=element_blank()) + \n",
    "  xlab(\"\") + ylab(\"\") + ggtitle(\"Marital Status\") "
   ]
  },
  {
   "cell_type": "code",
   "execution_count": 136,
   "metadata": {
    "collapsed": true
   },
   "outputs": [],
   "source": [
    "p2 <- ggplot(data, aes(x=factor(1), fill=relationship)) + \n",
    "  geom_bar(aes(y = 100*(..count..)/sum(..count..)), width = 1) + coord_polar(theta=\"y\") + \n",
    "  theme(axis.text.y = element_blank(), axis.ticks.y = element_blank(), legend.title=element_blank()) + \n",
    "  xlab(\"\") + ylab(\"\") + ggtitle(\"Relationship\") \n"
   ]
  },
  {
   "cell_type": "code",
   "execution_count": 137,
   "metadata": {
    "collapsed": true
   },
   "outputs": [],
   "source": [
    "p3 <- ggplot(data, aes(x=factor(1), fill=race)) + \n",
    "  geom_bar(aes(y = 100*(..count..)/sum(..count..)), width = 1) + coord_polar(theta=\"y\") + \n",
    "  theme(axis.text.y = element_blank(), axis.ticks.y = element_blank(), legend.title=element_blank()) + \n",
    "  xlab(\"\") + ylab(\"\") + ggtitle(\"Race\")\n"
   ]
  },
  {
   "cell_type": "code",
   "execution_count": 138,
   "metadata": {
    "collapsed": true
   },
   "outputs": [],
   "source": [
    "p4 <- ggplot(data, aes(x=factor(1), fill=sex)) + \n",
    "  geom_bar(aes(y = 100*(..count..)/sum(..count..)), width = 1) + coord_polar(theta=\"y\") + \n",
    "  theme(axis.text.y = element_blank(), axis.ticks.y = element_blank(), legend.title=element_blank()) + \n",
    "  xlab(\"\") + ylab(\"\") + ggtitle(\"Sex\")\n"
   ]
  },
  {
   "cell_type": "code",
   "execution_count": 139,
   "metadata": {},
   "outputs": [
    {
     "data": {
      "image/png": "[encoded data removed]",
      "text/plain": [
       "plot without title"
      ]
     },
     "metadata": {},
     "output_type": "display_data"
    }
   ],
   "source": [
    "grid.arrange(p1, p2, p3, p4, ncol=2)\n",
    "\n",
    "###\n",
    "#All these variables have reasonable spread of distribution, therefore will be considered.\n",
    "\n"
   ]
  },
  {
   "cell_type": "code",
   "execution_count": 140,
   "metadata": {
    "collapsed": true
   },
   "outputs": [],
   "source": [
    "##Correlation between numerical variables\n",
    "\n",
    "numeric.var <- sapply(data, is.numeric) ## Find numerical variables"
   ]
  },
  {
   "cell_type": "code",
   "execution_count": 141,
   "metadata": {
    "collapsed": true
   },
   "outputs": [],
   "source": [
    "corr.matrix <- cor(data[,numeric.var])  ## Calculate the correlation matrix\n"
   ]
  },
  {
   "cell_type": "code",
   "execution_count": 142,
   "metadata": {},
   "outputs": [
    {
     "data": {
      "image/png": "[encoded data removed]",
      "text/plain": [
       "Plot with title \"\n",
       "\n",
       "Correlation Plot for Numerical Variables\""
      ]
     },
     "metadata": {},
     "output_type": "display_data"
    }
   ],
   "source": [
    "corrplot(corr.matrix, main=\"\\n\\nCorrelation Plot for Numerical Variables\")  ## Correlation plot\n"
   ]
  },
  {
   "cell_type": "code",
   "execution_count": 143,
   "metadata": {
    "collapsed": true
   },
   "outputs": [],
   "source": [
    "par(mar=c(5.1,4.1,4.1,2.1))  ## Restore plot margins\n"
   ]
  },
  {
   "cell_type": "code",
   "execution_count": 144,
   "metadata": {
    "collapsed": true
   },
   "outputs": [],
   "source": [
    "###Correlation between numerical variables and income class\n",
    "\n",
    "par(mfrow=c(2,2))  ## Arrange plots in a 4x4 grid\n"
   ]
  },
  {
   "cell_type": "code",
   "execution_count": 145,
   "metadata": {},
   "outputs": [
    {
     "data": {
      "image/png": "[encoded data removed]",
      "text/plain": [
       "Plot with title \"Age vs. Income Class\""
      ]
     },
     "metadata": {},
     "output_type": "display_data"
    }
   ],
   "source": [
    "boxplot(age~income, main=\"Age vs. Income Class\", \n",
    "        xlab=\"Income Class\", ylab=\"Age\")\n"
   ]
  },
  {
   "cell_type": "code",
   "execution_count": 146,
   "metadata": {},
   "outputs": [
    {
     "data": {
      "image/png": "[encoded data removed]",
      "text/plain": [
       "Plot with title \"age\n",
       "vs. Education\""
      ]
     },
     "metadata": {},
     "output_type": "display_data"
    }
   ],
   "source": [
    "##Correlation between numerical and categorical variables\n",
    "boxplot(age~education, main=\"age\\nvs. Education\", \n",
    "        xlab=\"Education\", ylab=\"Years of Eduction\")\n"
   ]
  },
  {
   "cell_type": "code",
   "execution_count": 147,
   "metadata": {
    "collapsed": true
   },
   "outputs": [],
   "source": [
    "AOV <- aov(age~education)\n"
   ]
  },
  {
   "cell_type": "code",
   "execution_count": 148,
   "metadata": {},
   "outputs": [
    {
     "data": {
      "text/plain": [
       "               Df  Sum Sq Mean Sq F value Pr(>F)    \n",
       "education       7  129692   18527   110.1 <2e-16 ***\n",
       "Residuals   30154 5073667     168                   \n",
       "---\n",
       "Signif. codes:  0 '***' 0.001 '**' 0.01 '*' 0.05 '.' 0.1 ' ' 1"
      ]
     },
     "metadata": {},
     "output_type": "display_data"
    }
   ],
   "source": [
    "summary(AOV)\n"
   ]
  },
  {
   "cell_type": "code",
   "execution_count": 149,
   "metadata": {
    "collapsed": true
   },
   "outputs": [],
   "source": [
    "##Correlation between categorical variables and income class\n",
    "\n",
    "\n",
    "par(mfrow=c(3,2))\n"
   ]
  },
  {
   "cell_type": "code",
   "execution_count": 150,
   "metadata": {
    "collapsed": true
   },
   "outputs": [],
   "source": [
    "par(las=1)  ## horizontal axis labels\n"
   ]
  },
  {
   "cell_type": "code",
   "execution_count": 151,
   "metadata": {},
   "outputs": [
    {
     "data": {
      "image/png": "[encoded data removed]",
      "text/plain": [
       "Plot with title \"Work Class vs. Income Class\""
      ]
     },
     "metadata": {},
     "output_type": "display_data"
    }
   ],
   "source": [
    "plot(table(income, type_employer), main=\"Work Class vs. Income Class\", cex=1.5)\n"
   ]
  },
  {
   "cell_type": "code",
   "execution_count": 152,
   "metadata": {},
   "outputs": [
    {
     "data": {
      "image/png": "[encoded data removed]",
      "text/plain": [
       "Plot with title \"Marital Status vs. Income Class\""
      ]
     },
     "metadata": {},
     "output_type": "display_data"
    }
   ],
   "source": [
    "plot(table(income, marital), main=\"Marital Status vs. Income Class\", cex=1.5)\n"
   ]
  },
  {
   "cell_type": "code",
   "execution_count": 153,
   "metadata": {},
   "outputs": [
    {
     "data": {
      "image/png": "[encoded data removed]",
      "text/plain": [
       "Plot with title \"Occupation vs. Income Class\""
      ]
     },
     "metadata": {},
     "output_type": "display_data"
    }
   ],
   "source": [
    "plot(table(income, occupation), main=\"Occupation vs. Income Class\", cex=1.5)\n"
   ]
  },
  {
   "cell_type": "code",
   "execution_count": 154,
   "metadata": {},
   "outputs": [
    {
     "data": {
      "image/png": "[encoded data removed]",
      "text/plain": [
       "Plot with title \"Relationship vs. Income Class\""
      ]
     },
     "metadata": {},
     "output_type": "display_data"
    }
   ],
   "source": [
    "plot(table(income, relationship), main=\"Relationship vs. Income Class\", cex=1.5)\n"
   ]
  },
  {
   "cell_type": "code",
   "execution_count": 155,
   "metadata": {},
   "outputs": [
    {
     "data": {
      "image/png": "[encoded data removed]",
      "text/plain": [
       "Plot with title \"Race vs. Income Class\""
      ]
     },
     "metadata": {},
     "output_type": "display_data"
    }
   ],
   "source": [
    "plot(table(income, race), main=\"Race vs. Income Class\", cex=1.5)\n"
   ]
  },
  {
   "cell_type": "code",
   "execution_count": 156,
   "metadata": {},
   "outputs": [
    {
     "data": {
      "image/png": "[encoded data removed]",
      "text/plain": [
       "Plot with title \"Sex vs. Income Class\""
      ]
     },
     "metadata": {},
     "output_type": "display_data"
    }
   ],
   "source": [
    "plot(table(income, sex), main=\"Sex vs. Income Class\", cex=1.5)\n"
   ]
  },
  {
   "cell_type": "code",
   "execution_count": 157,
   "metadata": {
    "collapsed": true
   },
   "outputs": [],
   "source": [
    "par(las=0)  ## parallel axis labels\n"
   ]
  },
  {
   "cell_type": "code",
   "execution_count": 158,
   "metadata": {
    "collapsed": true
   },
   "outputs": [],
   "source": [
    "###training and test data\n",
    "\n",
    "sample = rbinom(dim(data)[1],1,.3)"
   ]
  },
  {
   "cell_type": "code",
   "execution_count": 159,
   "metadata": {
    "collapsed": true
   },
   "outputs": [],
   "source": [
    "trainset = data[sample==0,]\n"
   ]
  },
  {
   "cell_type": "code",
   "execution_count": 160,
   "metadata": {
    "collapsed": true
   },
   "outputs": [],
   "source": [
    "valset = data[sample==1,]\n"
   ]
  },
  {
   "cell_type": "code",
   "execution_count": 161,
   "metadata": {
    "collapsed": true
   },
   "outputs": [],
   "source": [
    "##Logistic Regression\n",
    "## Create a binary response variable\n",
    "## GLM fit\n",
    "\n",
    "fit <- glm(income ~ age  + hr_per_week + education + marital + occupation + relationship + race + sex, family=binomial(\"logit\"),data=trainset)\n"
   ]
  },
  {
   "cell_type": "code",
   "execution_count": 162,
   "metadata": {
    "collapsed": true
   },
   "outputs": [],
   "source": [
    "#### Get the coefficients\n",
    "tab <- summary(fit)$coefficients\n"
   ]
  },
  {
   "cell_type": "code",
   "execution_count": 163,
   "metadata": {
    "collapsed": true
   },
   "outputs": [],
   "source": [
    "## Sort by p-value\n",
    "sorter <- order(tab[,4])\n"
   ]
  },
  {
   "cell_type": "code",
   "execution_count": 165,
   "metadata": {
    "collapsed": true
   },
   "outputs": [],
   "source": [
    "tab <- tab[sorter,]"
   ]
  },
  {
   "cell_type": "code",
   "execution_count": 166,
   "metadata": {},
   "outputs": [
    {
     "name": "stdout",
     "output_type": "stream",
     "text": [
      "                                Estimate   Std. Error      z value\n",
      "(Intercept)                 -3.373451099 1.300589e-01 -25.93787418\n",
      "hr_per_week                  0.028488628 1.846843e-03  15.42558477\n",
      "educationDoctorate           2.198832766 1.839339e-01  11.95447025\n",
      "occupationSales              0.495017758 6.744579e-02   7.33949083\n",
      "educationMasters             1.538117201 9.148559e-02  16.81267244\n",
      "educationBachelors           1.238116250 6.234151e-02  19.86022356\n",
      "relationshipWife             1.281328232 1.149468e-01  11.14713974\n",
      "sexFemale                   -0.883527356 8.563641e-02 -10.31719314\n",
      "relationshipNot-in-family    0.526648788 2.978376e-01   1.76824166\n",
      "raceBlack                   -0.005775002 8.330174e-02  -0.06932630\n",
      "age                          0.026190980 1.833095e-03  14.28784660\n",
      "occupationOther-Occupations  0.729239687 8.932116e-02   8.16424346\n",
      "educationDropout            -0.898314650 9.296500e-02  -9.66293385\n",
      "occupationService           -0.714571390 1.183944e-01  -6.03551906\n",
      "maritalNot-Married          -2.023416720 2.989507e-01  -6.76839687\n",
      "educationProf-School         2.180048782 1.535637e-01  14.19638479\n",
      "occupationProfessional       0.682501164 7.421742e-02   9.19596940\n",
      "occupationWhite-Collar       1.012271134 6.354860e-02  15.92908594\n",
      "educationHS-Graduate         0.374238053 5.765634e-02   6.49083982\n",
      "maritalNever-Married        -2.545385496 2.940813e-01  -8.65537912\n",
      "educationAssociates          0.530980743 7.645578e-02   6.94493953\n",
      "raceAmer-Indian             -0.369572740 2.508019e-01  -1.47356450\n",
      "raceAsian                   -0.281363874 1.189808e-01  -2.36478316\n",
      "occupationAdmin              0.312406455 8.149392e-02   3.83349418\n",
      "occupationMilitary          -9.476334239 1.220161e+02  -0.07766463\n",
      "raceOther                   -0.500624178 3.085625e-01  -1.62244014\n",
      "relationshipUnmarried        0.309970082 3.140926e-01   0.98687472\n",
      "relationshipOwn-child       -0.637216556 2.944155e-01  -2.16434443\n",
      "maritalWidowed              -1.840043655 3.324166e-01  -5.53535475\n",
      "relationshipOther-relative  -0.446207729 2.754430e-01  -1.61996386\n",
      "                                 Pr(>|z|)\n",
      "(Intercept)                 2.491684e-148\n",
      "hr_per_week                  1.101529e-53\n",
      "educationDoctorate           6.152465e-33\n",
      "occupationSales              2.144080e-13\n",
      "educationMasters             1.970825e-63\n",
      "educationBachelors           8.990951e-88\n",
      "relationshipWife             7.394521e-29\n",
      "sexFemale                    5.892048e-25\n",
      "relationshipNot-in-family    7.702051e-02\n",
      "raceBlack                    9.447299e-01\n",
      "age                          2.605419e-46\n",
      "occupationOther-Occupations  3.234559e-16\n",
      "educationDropout             4.332743e-22\n",
      "occupationService            1.584525e-09\n",
      "maritalNot-Married           1.302172e-11\n",
      "educationProf-School         9.646193e-46\n",
      "occupationProfessional       3.716284e-20\n",
      "occupationWhite-Collar       3.981345e-57\n",
      "educationHS-Graduate         8.535920e-11\n",
      "maritalNever-Married         4.912759e-18\n",
      "educationAssociates          3.786225e-12\n",
      "raceAmer-Indian              1.405989e-01\n",
      "raceAsian                    1.804063e-02\n",
      "occupationAdmin              1.263358e-04\n",
      "occupationMilitary           9.380948e-01\n",
      "raceOther                    1.047091e-01\n",
      "relationshipUnmarried        3.237041e-01\n",
      "relationshipOwn-child        3.043793e-02\n",
      "maritalWidowed               3.105990e-08\n",
      "relationshipOther-relative   1.052400e-01\n"
     ]
    }
   ],
   "source": [
    "print(tab)"
   ]
  },
  {
   "cell_type": "code",
   "execution_count": 167,
   "metadata": {
    "collapsed": true
   },
   "outputs": [],
   "source": [
    "####Cross-Validation\n",
    "####Apply model to the test set\n",
    "\n",
    "\n",
    "###Prediction of test data\n",
    "pred <- predict(fit, valset, type=\"response\")"
   ]
  },
  {
   "cell_type": "code",
   "execution_count": 168,
   "metadata": {
    "collapsed": true
   },
   "outputs": [],
   "source": [
    "valset$pred=pred"
   ]
  },
  {
   "cell_type": "code",
   "execution_count": 169,
   "metadata": {
    "collapsed": true
   },
   "outputs": [],
   "source": [
    "N.test <- length(pred)\n"
   ]
  },
  {
   "cell_type": "code",
   "execution_count": 170,
   "metadata": {},
   "outputs": [
    {
     "name": "stdout",
     "output_type": "stream",
     "text": [
      "package 'InformationValue' successfully unpacked and MD5 sums checked\n",
      "\n",
      "The downloaded binary packages are in\n",
      "\tC:\\Users\\Win8\\AppData\\Local\\Temp\\RtmpOSZVTW\\downloaded_packages\n"
     ]
    }
   ],
   "source": [
    "install.packages(\"InformationValue\",'C:/Users/Win8/Documents/R/win-library/3.3')"
   ]
  },
  {
   "cell_type": "code",
   "execution_count": 171,
   "metadata": {},
   "outputs": [
    {
     "name": "stderr",
     "output_type": "stream",
     "text": [
      "Warning message:\n",
      "\"package 'InformationValue' was built under R version 3.3.3\""
     ]
    }
   ],
   "source": [
    "library(InformationValue)\n"
   ]
  },
  {
   "cell_type": "code",
   "execution_count": 172,
   "metadata": {
    "collapsed": true
   },
   "outputs": [],
   "source": [
    "optCutOff <- optimalCutoff(valset$income, pred)[1] \n"
   ]
  },
  {
   "cell_type": "code",
   "execution_count": 173,
   "metadata": {
    "collapsed": true
   },
   "outputs": [],
   "source": [
    "confusion.table<-confusionMatrix(valset$income, pred, threshold = optCutOff)\n"
   ]
  },
  {
   "cell_type": "code",
   "execution_count": 174,
   "metadata": {},
   "outputs": [
    {
     "name": "stdout",
     "output_type": "stream",
     "text": [
      "     0    1\n",
      "0 6210  905\n",
      "1  582 1268\n"
     ]
    }
   ],
   "source": [
    "print(confusion.table)\n"
   ]
  },
  {
   "cell_type": "code",
   "execution_count": 175,
   "metadata": {},
   "outputs": [
    {
     "data": {
      "text/html": [
       "0.583525080533824"
      ],
      "text/latex": [
       "0.583525080533824"
      ],
      "text/markdown": [
       "0.583525080533824"
      ],
      "text/plain": [
       "[1] 0.5835251"
      ]
     },
     "metadata": {},
     "output_type": "display_data"
    }
   ],
   "source": [
    "sensitivity(valset$income, pred, threshold = optCutOff)\n"
   ]
  },
  {
   "cell_type": "code",
   "execution_count": 176,
   "metadata": {},
   "outputs": [
    {
     "data": {
      "text/html": [
       "0.914310954063604"
      ],
      "text/latex": [
       "0.914310954063604"
      ],
      "text/markdown": [
       "0.914310954063604"
      ],
      "text/plain": [
       "[1] 0.914311"
      ]
     },
     "metadata": {},
     "output_type": "display_data"
    }
   ],
   "source": [
    "specificity(valset$income, pred, threshold = optCutOff)\n"
   ]
  },
  {
   "cell_type": "code",
   "execution_count": 177,
   "metadata": {},
   "outputs": [
    {
     "name": "stdout",
     "output_type": "stream",
     "text": [
      "package 'pROC' successfully unpacked and MD5 sums checked\n",
      "\n",
      "The downloaded binary packages are in\n",
      "\tC:\\Users\\Win8\\AppData\\Local\\Temp\\RtmpOSZVTW\\downloaded_packages\n"
     ]
    }
   ],
   "source": [
    "install.packages(\"pROC\",'C:/Users/Win8/Documents/R/win-library/3.3')"
   ]
  },
  {
   "cell_type": "code",
   "execution_count": 178,
   "metadata": {},
   "outputs": [
    {
     "name": "stderr",
     "output_type": "stream",
     "text": [
      "Warning message:\n",
      "\"package 'pROC' was built under R version 3.3.3\"Type 'citation(\"pROC\")' for a citation.\n",
      "\n",
      "Attaching package: 'pROC'\n",
      "\n",
      "The following objects are masked from 'package:stats':\n",
      "\n",
      "    cov, smooth, var\n",
      "\n"
     ]
    }
   ],
   "source": [
    "library(pROC)"
   ]
  },
  {
   "cell_type": "code",
   "execution_count": 179,
   "metadata": {
    "collapsed": true
   },
   "outputs": [],
   "source": [
    "g<- roc(income ~ pred, data = valset)\n"
   ]
  },
  {
   "cell_type": "code",
   "execution_count": 180,
   "metadata": {},
   "outputs": [
    {
     "data": {
      "image/png": "[encoded data removed]",
      "text/plain": [
       "plot without title"
      ]
     },
     "metadata": {},
     "output_type": "display_data"
    }
   ],
   "source": [
    "plot(g)"
   ]
  },
  {
   "cell_type": "code",
   "execution_count": 181,
   "metadata": {},
   "outputs": [
    {
     "name": "stdout",
     "output_type": "stream",
     "text": [
      "\n",
      "Call:\n",
      "roc.formula(formula = income ~ pred, data = valset)\n",
      "\n",
      "Data: pred in 6792 controls (income 0) < 2173 cases (income 1).\n",
      "Area under the curve: 0.8855\n"
     ]
    }
   ],
   "source": [
    "print(g)"
   ]
  },
  {
   "cell_type": "code",
   "execution_count": 204,
   "metadata": {
    "collapsed": true
   },
   "outputs": [],
   "source": [
    "accuracy <- sum(diag(confusion.table)) / N.test\n"
   ]
  },
  {
   "cell_type": "code",
   "execution_count": 205,
   "metadata": {},
   "outputs": [
    {
     "name": "stdout",
     "output_type": "stream",
     "text": [
      "accuracy = 83.61405 %<br>missclassification = 16.38595 %\n"
     ]
    }
   ],
   "source": [
    "cat(\"accuracy =\", accuracy*100, \"%<br>missclassification =\", 100-accuracy*100, \"%\\n\")"
   ]
  },
  {
   "cell_type": "code",
   "execution_count": 184,
   "metadata": {},
   "outputs": [
    {
     "name": "stdout",
     "output_type": "stream",
     "text": [
      "package 'party' successfully unpacked and MD5 sums checked\n",
      "\n",
      "The downloaded binary packages are in\n",
      "\tC:\\Users\\Win8\\AppData\\Local\\Temp\\RtmpOSZVTW\\downloaded_packages\n"
     ]
    }
   ],
   "source": [
    "install.packages(\"party\",'C:/Users/Win8/Documents/R/win-library/3.3')"
   ]
  },
  {
   "cell_type": "code",
   "execution_count": 185,
   "metadata": {},
   "outputs": [
    {
     "name": "stderr",
     "output_type": "stream",
     "text": [
      "Warning message:\n",
      "\"package 'party' was built under R version 3.3.3\"Loading required package: grid\n",
      "Loading required package: mvtnorm\n",
      "Loading required package: modeltools\n",
      "Loading required package: stats4\n",
      "Loading required package: strucchange\n",
      "Warning message:\n",
      "\"package 'strucchange' was built under R version 3.3.3\"Loading required package: zoo\n",
      "\n",
      "Attaching package: 'zoo'\n",
      "\n",
      "The following objects are masked from 'package:base':\n",
      "\n",
      "    as.Date, as.Date.numeric\n",
      "\n",
      "Loading required package: sandwich\n",
      "Warning message:\n",
      "\"package 'sandwich' was built under R version 3.3.3\""
     ]
    }
   ],
   "source": [
    "library(party)"
   ]
  },
  {
   "cell_type": "code",
   "execution_count": 186,
   "metadata": {
    "collapsed": true
   },
   "outputs": [],
   "source": [
    "tree1 <- ctree(income ~ age + hr_per_week + education + marital + occupation + relationship + race + sex, data=trainset)\n"
   ]
  },
  {
   "cell_type": "code",
   "execution_count": 187,
   "metadata": {},
   "outputs": [
    {
     "name": "stdout",
     "output_type": "stream",
     "text": [
      "\n",
      "\t Conditional inference tree with 56 terminal nodes\n",
      "\n",
      "Response:  income \n",
      "Inputs:  age, hr_per_week, education, marital, occupation, relationship, race, sex \n",
      "Number of observations:  21197 \n",
      "\n",
      "1) relationship == {Husband, Wife}; criterion = 1, statistic = 4369.716\n",
      "  2) education == {Bachelors, Masters, Prof-School, Doctorate}; criterion = 1, statistic = 1629.987\n",
      "    3) occupation == {Blue-Collar, Service}; criterion = 1, statistic = 130.763\n",
      "      4)*  weights = 261 \n",
      "    3) occupation == {Professional, White-Collar, Admin, Sales, Other-Occupations}\n",
      "      5) hr_per_week <= 30; criterion = 1, statistic = 36.806\n",
      "        6) relationship == {Husband}; criterion = 1, statistic = 17.816\n",
      "          7)*  weights = 102 \n",
      "        6) relationship == {Wife}\n",
      "          8)*  weights = 51 \n",
      "      5) hr_per_week > 30\n",
      "        9) education == {Bachelors}; criterion = 1, statistic = 35.165\n",
      "          10) age <= 28; criterion = 0.999, statistic = 22.954\n",
      "            11)*  weights = 119 \n",
      "          10) age > 28\n",
      "            12) race == {Asian, Other}; criterion = 1, statistic = 24.673\n",
      "              13)*  weights = 73 \n",
      "            12) race == {White, Black, Amer-Indian}\n",
      "              14)*  weights = 1327 \n",
      "        9) education == {Masters, Prof-School, Doctorate}\n",
      "          15)*  weights = 968 \n",
      "  2) education == {HS-grad, HS-Graduate, Dropout, Associates}\n",
      "    16) occupation == {Blue-Collar, Service, Military}; criterion = 1, statistic = 403.246\n",
      "      17) education == {HS-grad, HS-Graduate, Associates}; criterion = 1, statistic = 121.597\n",
      "        18) age <= 35; criterion = 1, statistic = 49.864\n",
      "          19) age <= 28; criterion = 1, statistic = 25.845\n",
      "            20)*  weights = 396 \n",
      "          19) age > 28\n",
      "            21)*  weights = 714 \n",
      "        18) age > 35\n",
      "          22) occupation == {Service}; criterion = 1, statistic = 33.791\n",
      "            23)*  weights = 196 \n",
      "          22) occupation == {Blue-Collar}\n",
      "            24) hr_per_week <= 30; criterion = 1, statistic = 21.876\n",
      "              25) education == {Associates}; criterion = 0.953, statistic = 10.212\n",
      "                26)*  weights = 14 \n",
      "              25) education == {HS-grad, HS-Graduate}\n",
      "                27)*  weights = 92 \n",
      "            24) hr_per_week > 30\n",
      "              28)*  weights = 1747 \n",
      "      17) education == {Dropout}\n",
      "        29) hr_per_week <= 45; criterion = 0.998, statistic = 13.341\n",
      "          30)*  weights = 718 \n",
      "        29) hr_per_week > 45\n",
      "          31)*  weights = 156 \n",
      "    16) occupation == {Professional, White-Collar, Admin, Sales, Other-Occupations}\n",
      "      32) education == {HS-grad, Dropout}; criterion = 1, statistic = 85.427\n",
      "        33) hr_per_week <= 33; criterion = 1, statistic = 31.13\n",
      "          34)*  weights = 149 \n",
      "        33) hr_per_week > 33\n",
      "          35) education == {Dropout}; criterion = 1, statistic = 19.767\n",
      "            36)*  weights = 121 \n",
      "          35) education == {HS-grad}\n",
      "            37) age <= 35; criterion = 1, statistic = 25.975\n",
      "              38) age <= 27; criterion = 0.998, statistic = 13.759\n",
      "                39)*  weights = 87 \n",
      "              38) age > 27\n",
      "                40)*  weights = 224 \n",
      "            37) age > 35\n",
      "              41)*  weights = 692 \n",
      "      32) education == {HS-Graduate, Associates}\n",
      "        42) age <= 33; criterion = 1, statistic = 35.005\n",
      "          43) age <= 24; criterion = 0.989, statistic = 10.173\n",
      "            44)*  weights = 42 \n",
      "          43) age > 24\n",
      "            45)*  weights = 326 \n",
      "        42) age > 33\n",
      "          46) hr_per_week <= 33; criterion = 0.992, statistic = 11.207\n",
      "            47) relationship == {Husband}; criterion = 0.984, statistic = 9.521\n",
      "              48)*  weights = 53 \n",
      "            47) relationship == {Wife}\n",
      "              49)*  weights = 37 \n",
      "          46) hr_per_week > 33\n",
      "            50)*  weights = 1048 \n",
      "1) relationship == {Not-in-family, Own-child, Unmarried, Other-relative}\n",
      "  51) education == {HS-grad, HS-Graduate, Dropout, Associates}; criterion = 1, statistic = 1175.917\n",
      "    52) occupation == {Blue-Collar, Admin, Sales, Service, Military}; criterion = 1, statistic = 215.195\n",
      "      53) age <= 34; criterion = 1, statistic = 116.002\n",
      "        54) hr_per_week <= 40; criterion = 1, statistic = 37.221\n",
      "          55) race == {White, Black, Other}; criterion = 0.998, statistic = 21.921\n",
      "            56) education == {Associates}; criterion = 0.983, statistic = 14.705\n",
      "              57)*  weights = 233 \n",
      "            56) education == {HS-grad, HS-Graduate, Dropout}\n",
      "              58)*  weights = 3454 \n",
      "          55) race == {Asian, Amer-Indian}\n",
      "            59)*  weights = 154 \n",
      "        54) hr_per_week > 40\n",
      "          60) race == {Asian, Amer-Indian, Other}; criterion = 1, statistic = 33.884\n",
      "            61)*  weights = 27 \n",
      "          60) race == {White, Black}\n",
      "            62)*  weights = 706 \n",
      "      53) age > 34\n",
      "        63) hr_per_week <= 42; criterion = 1, statistic = 58.21\n",
      "          64) marital == {Married}; criterion = 1, statistic = 25.255\n",
      "            65) education == {HS-grad, Dropout}; criterion = 0.96, statistic = 12.775\n",
      "              66)*  weights = 22 \n",
      "            65) education == {HS-Graduate, Associates}\n",
      "              67)*  weights = 7 \n",
      "          64) marital == {Never-Married, Not-Married, Widowed}\n",
      "            68) sex == {Female}; criterion = 0.999, statistic = 16.479\n",
      "              69)*  weights = 1482 \n",
      "            68) sex == {Male}\n",
      "              70)*  weights = 847 \n",
      "        63) hr_per_week > 42\n",
      "          71) marital == {Married}; criterion = 0.987, statistic = 15.261\n",
      "            72)*  weights = 8 \n",
      "          71) marital == {Never-Married, Not-Married, Widowed}\n",
      "            73) sex == {Male}; criterion = 0.958, statistic = 13.954\n",
      "              74)*  weights = 356 \n",
      "            73) sex == {Female}\n",
      "              75)*  weights = 224 \n",
      "    52) occupation == {Professional, White-Collar, Other-Occupations}\n",
      "      76) sex == {Female}; criterion = 1, statistic = 41.769\n",
      "        77) marital == {Married, Not-Married, Widowed}; criterion = 0.995, statistic = 17.298\n",
      "          78)*  weights = 508 \n",
      "        77) marital == {Never-Married}\n",
      "          79)*  weights = 348 \n",
      "      76) sex == {Male}\n",
      "        80) age <= 35; criterion = 1, statistic = 41.419\n",
      "          81) marital == {Married, Not-Married}; criterion = 1, statistic = 34.83\n",
      "            82)*  weights = 66 \n",
      "          81) marital == {Never-Married, Widowed}\n",
      "            83) hr_per_week <= 60; criterion = 0.996, statistic = 12.31\n",
      "              84)*  weights = 293 \n",
      "            83) hr_per_week > 60\n",
      "              85)*  weights = 8 \n",
      "        80) age > 35\n",
      "          86)*  weights = 245 \n",
      "  51) education == {Bachelors, Masters, Prof-School, Doctorate}\n",
      "    87) age <= 32; criterion = 1, statistic = 151.677\n",
      "      88) age <= 27; criterion = 1, statistic = 54.083\n",
      "        89) hr_per_week <= 60; criterion = 0.985, statistic = 9.666\n",
      "          90)*  weights = 691 \n",
      "        89) hr_per_week > 60\n",
      "          91)*  weights = 17 \n",
      "      88) age > 27\n",
      "        92) hr_per_week <= 44; criterion = 1, statistic = 19.416\n",
      "          93) marital == {Never-Married, Widowed}; criterion = 0.99, statistic = 15.765\n",
      "            94)*  weights = 213 \n",
      "          93) marital == {Married, Not-Married}\n",
      "            95) relationship == {Not-in-family}; criterion = 0.988, statistic = 15.409\n",
      "              96)*  weights = 18 \n",
      "            95) relationship == {Own-child, Unmarried, Other-relative}\n",
      "              97)*  weights = 13 \n",
      "        92) hr_per_week > 44\n",
      "          98)*  weights = 170 \n",
      "    87) age > 32\n",
      "      99) education == {Bachelors, Masters}; criterion = 1, statistic = 80.165\n",
      "        100) occupation == {White-Collar, Sales}; criterion = 1, statistic = 76.149\n",
      "          101) hr_per_week <= 42; criterion = 1, statistic = 23.188\n",
      "            102) marital == {Never-Married, Not-Married}; criterion = 0.961, statistic = 12.829\n",
      "              103)*  weights = 195 \n",
      "            102) marital == {Married, Widowed}\n",
      "              104)*  weights = 10 \n",
      "          101) hr_per_week > 42\n",
      "            105) education == {Bachelors}; criterion = 0.995, statistic = 11.591\n",
      "              106)*  weights = 163 \n",
      "            105) education == {Masters}\n",
      "              107)*  weights = 68 \n",
      "        100) occupation == {Blue-Collar, Professional, Admin, Service, Other-Occupations}\n",
      "          108) sex == {Female}; criterion = 0.956, statistic = 10.232\n",
      "            109)*  weights = 474 \n",
      "          108) sex == {Male}\n",
      "            110)*  weights = 320 \n",
      "      99) education == {Prof-School, Doctorate}\n",
      "        111)*  weights = 144 \n"
     ]
    }
   ],
   "source": [
    "print(tree1)\n"
   ]
  },
  {
   "cell_type": "code",
   "execution_count": 188,
   "metadata": {
    "collapsed": true
   },
   "outputs": [],
   "source": [
    "##Cross-Validation\n",
    "\n",
    "## Making sure the levels of categorical variables match between training and test datasets\n",
    "outcome <- levels(income)\n"
   ]
  },
  {
   "cell_type": "code",
   "execution_count": 189,
   "metadata": {
    "collapsed": true
   },
   "outputs": [],
   "source": [
    "levels(valset$income) <- outcome\n"
   ]
  },
  {
   "cell_type": "code",
   "execution_count": 190,
   "metadata": {
    "collapsed": true
   },
   "outputs": [],
   "source": [
    "valset$sex <- factor(valset$sex, levels(sex))\n"
   ]
  },
  {
   "cell_type": "code",
   "execution_count": 191,
   "metadata": {
    "collapsed": true
   },
   "outputs": [],
   "source": [
    "valset$type_employer <- factor(valset$type_employer, levels(type_employer))\n"
   ]
  },
  {
   "cell_type": "code",
   "execution_count": 192,
   "metadata": {
    "collapsed": true
   },
   "outputs": [],
   "source": [
    "valset$marital <- factor(valset$marital, levels(marital))\n"
   ]
  },
  {
   "cell_type": "code",
   "execution_count": 193,
   "metadata": {
    "collapsed": true
   },
   "outputs": [],
   "source": [
    "valset$occupation <- factor(valset$occupation, levels(occupation))\n"
   ]
  },
  {
   "cell_type": "code",
   "execution_count": 194,
   "metadata": {
    "collapsed": true
   },
   "outputs": [],
   "source": [
    "valset$relationship <- factor(valset$relationship, levels(relationship))\n"
   ]
  },
  {
   "cell_type": "code",
   "execution_count": 195,
   "metadata": {
    "collapsed": true
   },
   "outputs": [],
   "source": [
    "## Prediction of test data\n",
    "pred <- predict(tree1, valset)"
   ]
  },
  {
   "cell_type": "code",
   "execution_count": 196,
   "metadata": {
    "collapsed": true
   },
   "outputs": [],
   "source": [
    "N.test <- length(pred)\n"
   ]
  },
  {
   "cell_type": "code",
   "execution_count": 197,
   "metadata": {
    "collapsed": true
   },
   "outputs": [],
   "source": [
    "###Confusion Table\n"
   ]
  },
  {
   "cell_type": "code",
   "execution_count": 198,
   "metadata": {
    "collapsed": true
   },
   "outputs": [],
   "source": [
    "confusion.table <- table(pred, valset$income)"
   ]
  },
  {
   "cell_type": "code",
   "execution_count": 199,
   "metadata": {
    "collapsed": true
   },
   "outputs": [],
   "source": [
    "colnames(confusion.table) <- c(paste(\"Actual\",outcome[1]), outcome[2])\n"
   ]
  },
  {
   "cell_type": "code",
   "execution_count": 200,
   "metadata": {
    "collapsed": true
   },
   "outputs": [],
   "source": [
    "rownames(confusion.table) <- c(paste(\"Predicted\",outcome[1]), outcome[2])\n"
   ]
  },
  {
   "cell_type": "code",
   "execution_count": 201,
   "metadata": {},
   "outputs": [
    {
     "name": "stdout",
     "output_type": "stream",
     "text": [
      "             \n",
      "pred          Actual 0    1\n",
      "  Predicted 0     6163  840\n",
      "  1                629 1333\n"
     ]
    }
   ],
   "source": [
    "print(confusion.table)\n"
   ]
  },
  {
   "cell_type": "code",
   "execution_count": 202,
   "metadata": {
    "collapsed": true
   },
   "outputs": [],
   "source": [
    "accuracy <- sum(diag(confusion.table)) / N.test\n"
   ]
  },
  {
   "cell_type": "code",
   "execution_count": 203,
   "metadata": {},
   "outputs": [
    {
     "name": "stdout",
     "output_type": "stream",
     "text": [
      "accuracy = 83.61405 %<br>missclassification = 16.38595 %\n"
     ]
    }
   ],
   "source": [
    "cat(\"accuracy =\", accuracy*100, \"%<br>missclassification =\", 100-accuracy*100, \"%\\n\")\n"
   ]
  }
 ],
 "metadata": {
  "kernelspec": {
   "display_name": "R",
   "language": "R",
   "name": "ir"
  },
  "language_info": {
   "codemirror_mode": "r",
   "file_extension": ".r",
   "mimetype": "text/x-r-source",
   "name": "R",
   "pygments_lexer": "r",
   "version": "3.3.2"
  }
 },
 "nbformat": 4,
 "nbformat_minor": 2
}
